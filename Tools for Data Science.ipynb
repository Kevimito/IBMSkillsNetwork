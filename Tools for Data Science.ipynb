{
 "cells": [
  {
   "cell_type": "markdown",
   "metadata": {},
   "source": [
    "# My Jupyter Notebook on IBM Watson Studio"
   ]
  },
  {
   "cell_type": "markdown",
   "metadata": {},
   "source": [
    "**Kevin Michael Torres Carpio**\n",
    "\n",
    "Sr. Geologist"
   ]
  },
  {
   "cell_type": "markdown",
   "metadata": {},
   "source": [
    "*I am Interested in data science beacuse it fits with my current job as geomodeler*\n",
    "*I am geomodeler, with strong background in statistics and geomodelling algorithms*"
   ]
  },
  {
   "cell_type": "markdown",
   "metadata": {},
   "source": [
    "### Code is a practice for Course 02 in IBM Certification"
   ]
  },
  {
   "cell_type": "code",
   "execution_count": 2,
   "metadata": {},
   "outputs": [
    {
     "data": {
      "text/plain": [
       "1.0"
      ]
     },
     "execution_count": 2,
     "metadata": {},
     "output_type": "execute_result"
    }
   ],
   "source": [
    "10 * 0.1"
   ]
  },
  {
   "cell_type": "markdown",
   "metadata": {},
   "source": [
    "***\n",
    "* List 1\n",
    "* List 2\n",
    " * List 2a\n",
    " * List 2b\n",
    "* List 3"
   ]
  },
  {
   "cell_type": "markdown",
   "metadata": {},
   "source": [
    "# Headers\n",
    "\n",
    "# Heading 1\n",
    "## Heading 2\n",
    "### Heading 3\n",
    "#### Heading 4\n",
    "##### Heading 5\n",
    "###### Heading 6\n"
   ]
  },
  {
   "cell_type": "markdown",
   "metadata": {},
   "source": [
    "# Emphasis\n",
    "\n",
    "*This text have an Italic font style*\n",
    "_This text have an Italic font style_\n",
    "\n",
    "**This text have a bold font style**\n",
    "**This text have a bold font style**\n",
    "\n",
    "*italics**bold and italics**italics\n",
    "***Strikethrough this text***"
   ]
  },
  {
   "cell_type": "markdown",
   "metadata": {},
   "source": [
    "# Horizontal Rules\n",
    "***\n",
    "___\n",
    "---"
   ]
  },
  {
   "cell_type": "markdown",
   "metadata": {},
   "source": [
    "# Blockquotes\n",
    "> This inidcates that the enclosed text is an\n",
    "> extended quatation and is rendered visually by\n",
    "> indentation. (HTML <blockquote> Element)"
   ]
  },
  {
   "cell_type": "markdown",
   "metadata": {},
   "source": [
    "# Lists\n",
    "unsorted List\n",
    "* Main Item 1\n",
    "* Main Item 2\n",
    " * Subitem 2a\n",
    " * Subitem 2b\n",
    " \n",
    " Unsorted Lists Can Be:\n",
    " * Asterisks\n",
    " - Minus\n",
    " + Plus\n",
    " \n",
    " Ordered List\n",
    " 1. Main Item 1\n",
    " 2. Main Item 2\n",
    " 3. Main Item 3\n",
    "  3.1 Subitem 3a\n",
    "  3.2 Subitem 3b"
   ]
  },
  {
   "cell_type": "markdown",
   "metadata": {},
   "source": [
    "# Task List\n",
    "- [x] completed item\n",
    "- [] Incompleted item"
   ]
  },
  {
   "cell_type": "markdown",
   "metadata": {},
   "source": [
    "# Emoji\n",
    "Emojies on GitHub: www.emoji-cheat-sheet.com\n",
    ":+1: :sparkles: :camel: :tada:\n",
    ":rocket: :metal: :octocat:"
   ]
  },
  {
   "cell_type": "markdown",
   "metadata": {},
   "source": [
    "# Blackslash Escapes\n",
    "\\*literal asterisks\\*\n",
    "\\backlash\n",
    "* asterisk\n",
    "_ underscore\n",
    "{} curly braces\n",
    "[] square brackets\n",
    "() parentheses\n",
    "# hashmark\n",
    "+ plus sign\n",
    "-minus sign (hyphen)\n",
    ". dot\n",
    "! exclamation mark"
   ]
  },
  {
   "cell_type": "markdown",
   "metadata": {},
   "source": [
    "# Images\n",
    "\n",
    "![Logo](/images/logo.png)\n",
    "![Logo](/images/logo.png \"Image Title\")\n",
    "![Logo](https://www.images.com/logo.png)\n",
    "![Logo](https://www.images.com/logo.png \"Title\")\n",
    "![Logo](image_log)\n",
    "\n",
    "[image_log]: https://www.images.com/logo.png"
   ]
  },
  {
   "cell_type": "markdown",
   "metadata": {},
   "source": [
    "# Links\n",
    "\n",
    "https://www.code2bits.com\n",
    "[Code2Bits](https://www.code2bits.com)\n",
    "[Code2Bits](https://www.code2bits.com \"Title\")\n",
    "[Code2Bits][URL of Code2Bits]\n",
    "[Code2Bits][1]\n",
    "My homepage is at the following [link].\n",
    "\n",
    "[URL of Code2Bits]: https://www.code2bits.com\n",
    "[1]: https://www.code2bits.com\n",
    "[link]: https://www.code2bits.com"
   ]
  },
  {
   "cell_type": "markdown",
   "metadata": {},
   "source": [
    "# Tables\n",
    "| Header 1 | Header 2 | Header 3|\n",
    "|---------|:---------:|:-------|\n",
    "|left-aligned|centered|rigth-aligned|"
   ]
  },
  {
   "cell_type": "code",
   "execution_count": null,
   "metadata": {},
   "outputs": [],
   "source": []
  }
 ],
 "metadata": {
  "kernelspec": {
   "display_name": "Python 3",
   "language": "python",
   "name": "python3"
  },
  "language_info": {
   "codemirror_mode": {
    "name": "ipython",
    "version": 3
   },
   "file_extension": ".py",
   "mimetype": "text/x-python",
   "name": "python",
   "nbconvert_exporter": "python",
   "pygments_lexer": "ipython3",
   "version": "3.8.5"
  }
 },
 "nbformat": 4,
 "nbformat_minor": 4
}
